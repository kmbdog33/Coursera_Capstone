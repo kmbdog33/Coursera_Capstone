{
 "cells": [
  {
   "cell_type": "markdown",
   "metadata": {},
   "source": [
    "# Capstone Project - Data Science Certificate\n",
    "### Kevin B\n",
    "*********"
   ]
  },
  {
   "cell_type": "markdown",
   "metadata": {},
   "source": [
    "Introduction - Business Problem"
   ]
  },
  {
   "cell_type": "markdown",
   "metadata": {},
   "source": [
    "Two cities that I love are Boston and London.  I lived for a few years in London and got to know it quite well.  One thing that I always thought of about it was how similar it was in feel to Boston.  Therefore for my business problem i would like to compare the 2 cities, and a specific neighbrhood in each city to understand how similar and dissimilar they are.\n"
   ]
  },
  {
   "cell_type": "markdown",
   "metadata": {},
   "source": [
    "Data Description and How it will be used."
   ]
  },
  {
   "cell_type": "markdown",
   "metadata": {},
   "source": [
    "London population per Wikipedia is roughly 8 million people.  While greater Boston is much smaller at around 700k people, the wider metropoltian area is home to about 4.8 million people.  Clearly London is bigger there.\n",
    "\n",
    "To perform this analysis i will use the popualtion projections, and other demographc information from  Wikipedia or other to be determined sources.\n",
    "\n",
    "I will also use the Foursquare API to gather business, nightlife and other data to cluster and understand the neighborhoods.  I will then plot the locations in folium maps to visualize the layouts.\n",
    "\n",
    "The aim of the comparison is to understand the demographics, and location of different nightlife, cultural and other business locations to answer my hypothetical question about which City's neighborhood (Clerkenwell in London vs a TBD neighborhhod in Boston) would be better to live in and offer more, by understanding the differances and similarities between the 2 cities."
   ]
  }
 ],
 "metadata": {
  "kernelspec": {
   "display_name": "Python 3",
   "language": "python",
   "name": "python3"
  },
  "language_info": {
   "codemirror_mode": {
    "name": "ipython",
    "version": 3
   },
   "file_extension": ".py",
   "mimetype": "text/x-python",
   "name": "python",
   "nbconvert_exporter": "python",
   "pygments_lexer": "ipython3",
   "version": "3.7.4"
  }
 },
 "nbformat": 4,
 "nbformat_minor": 2
}
